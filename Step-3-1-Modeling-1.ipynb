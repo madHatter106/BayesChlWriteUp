{
 "cells": [
  {
   "cell_type": "code",
   "execution_count": 1,
   "metadata": {},
   "outputs": [],
   "source": [
    "import pathlib\n",
    "import platform\n",
    "\n",
    "import numpy as np\n",
    "import pandas as pd\n",
    "\n",
    "from sklearn.preprocessing import StandardScaler\n",
    "from sklearn.model_selection import train_test_split\n",
    "\n",
    "import pymc3 as pm\n",
    "\n",
    "import arviz as ar\n",
    "import matplotlib.pyplot as pl\n",
    "from matplotlib import rcParams\n",
    "import seaborn as sb"
   ]
  },
  {
   "cell_type": "code",
   "execution_count": 2,
   "metadata": {},
   "outputs": [
    {
     "name": "stdout",
     "output_type": "stream",
     "text": [
      "Python & Package Versions\n",
      "----------------\n",
      "PYTHON: 3.7.3\n",
      "numpy: 1.17.2\n",
      "pandas: 0.25.1\n",
      "pymc3: 3.7\n",
      "arviz: 0.5.1\n",
      "seaborn: 0.9.0\n"
     ]
    }
   ],
   "source": [
    "def pkg_ver(pkgs):\n",
    "    print('Python & Package Versions')\n",
    "    print('----------------')\n",
    "    print(f'PYTHON: {platform.python_version()}')\n",
    "    for pki in pkgs:\n",
    "        print(f'{pki.__name__}: {pki.__version__}')\n",
    "pkg_ver([np, pd, pm, ar, sb])"
   ]
  },
  {
   "cell_type": "code",
   "execution_count": 3,
   "metadata": {},
   "outputs": [],
   "source": [
    "ar.style.use('arviz-darkgrid')"
   ]
  },
  {
   "cell_type": "markdown",
   "metadata": {},
   "source": [
    "In this and a subsequent notebook, I implement some bayesian regression models to predict chlorophyll from satellite and ancillary data. I use a Bayesian framework for all models. For each model, implementation follows the sequence below.\n",
    "\n",
    "* The model is cast in a Bayesian framework using a probabilistic programming language (PPL);\n",
    "* A set of prior predictive simulations is conducted to ascertain that model priors are reasonable;\n",
    "* The model is fit using the No U-Turn Sampler (NUTS) variant of Hamiltonian Monte Carlo, and the data subset from NOMAD 2008;\n",
    "* Model predictive skill and  uncertainty are quantified via posterior distribution evaluation and posterior predictive simulation.\n",
    "\n",
    "Subsequently Inter-model comparisons of model skill are conducted using Information Criteria (IC) including Watanabe Akaike Information Criterion (WAIC) and/or Pareto Smoothed Importance Sampling Leave One Out Cross Validation (LOO). T"
   ]
  }
 ],
 "metadata": {
  "kernelspec": {
   "display_name": "Python [conda env:probaprog] *",
   "language": "python",
   "name": "conda-env-probaprog-py"
  },
  "language_info": {
   "codemirror_mode": {
    "name": "ipython",
    "version": 3
   },
   "file_extension": ".py",
   "mimetype": "text/x-python",
   "name": "python",
   "nbconvert_exporter": "python",
   "pygments_lexer": "ipython3",
   "version": "3.7.3"
  }
 },
 "nbformat": 4,
 "nbformat_minor": 2
}
