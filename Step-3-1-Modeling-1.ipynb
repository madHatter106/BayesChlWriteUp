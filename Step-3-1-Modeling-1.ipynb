{
 "cells": [
  {
   "cell_type": "code",
   "execution_count": null,
   "metadata": {},
   "outputs": [],
   "source": [
    "import pathlib\n",
    "import platform\n",
    "\n",
    "import numpy as np\n",
    "import pandas as pd\n",
    "\n",
    "from sklearn.preprocessing import StandardScaler\n",
    "from sklearn.model_selection import train_test_split\n",
    "\n",
    "import pymc3 as pm\n",
    "\n",
    "import arviz as ar\n",
    "import matplotlib.pyplot as pl\n",
    "from matplotlib import rcParams\n",
    "import seaborn as sb"
   ]
  },
  {
   "cell_type": "markdown",
   "metadata": {},
   "source": [
    "### <u>Package Versions<u>"
   ]
  },
  {
   "cell_type": "code",
   "execution_count": null,
   "metadata": {},
   "outputs": [],
   "source": [
    "def pkg_ver(pkgs):\n",
    "    print('Python & Package Versions')\n",
    "    print('----------------')\n",
    "    print(f'PYTHON: {platform.python_version()}')\n",
    "    for pki in pkgs:\n",
    "        print(f'{pki.__name__}: {pki.__version__}')\n",
    "pkg_ver([np, pd, pm, ar, sb])"
   ]
  },
  {
   "cell_type": "code",
   "execution_count": null,
   "metadata": {},
   "outputs": [],
   "source": [
    "ar.style.use('arviz-darkgrid')"
   ]
  },
  {
   "cell_type": "markdown",
   "metadata": {},
   "source": [
    "### <u>Overview</u>\n",
    "\n",
    "In this and [a subsequent notebook](), I implement bayesian regression models to predict chlorophyll from satellite and ancillary data. I use a Bayesian framework for all models. For each model, implementation follows the sequence below.\n",
    "\n",
    "* The model is cast in a Bayesian framework using a probabilistic programming language (PPL);\n",
    "* A set of prior predictive simulations is conducted to ascertain that model priors are reasonable;\n",
    "* The model is fit using the No U-Turn Sampler (NUTS) variant of Hamiltonian Monte Carlo, and the data subset from NOMAD 2008;\n",
    "* Model predictive skill and  uncertainty are quantified via posterior distribution evaluation and posterior predictive simulation.\n",
    "\n",
    "In a [third notebook](), the skill of the models are compared using Information Criteria (IC) based methods. These include Watanabe Akaike Information Criterion (WAIC) and/or Pareto Smoothed Importance Sampling Leave-One-Out Cross Validation (LOO).\n",
    "\n",
    "### <u>The Present Notebook's Linear Models</u>\n",
    "I include 1. models here:\n",
    "1. A simple maximum-blue band ratio (*MBR*) regression model.\n",
    "2. An OC4-type \\\\(4^{th}\\\\)degree polynomial regression.\n",
    "3. An OCI-type mixture model where one of either OC4-type or Color Index Model is applied to the data.\n",
    "$$$$\n",
    "\n",
    "### <u>Loading the Data</u>\n",
    "The data was stored previously in a [pandas dataframe](https://pandas.pydata.org). "
   ]
  },
  {
   "cell_type": "code",
   "execution_count": null,
   "metadata": {},
   "outputs": [],
   "source": [
    "df = pd.read_pickle('./PickleJar/df_main_2_w_CI.pkl')"
   ]
  },
  {
   "cell_type": "code",
   "execution_count": null,
   "metadata": {},
   "outputs": [],
   "source": [
    "df.info()"
   ]
  },
  {
   "cell_type": "markdown",
   "metadata": {},
   "source": [
    "### <u>Simple Band Ratio</u>\n",
    "A. Pooled Model.\n",
    "A pooled regression model is simply a regression on a the whole dataset without partitioning the data into distinct groups (see Partially Pooled Model section next)"
   ]
  },
  {
   "cell_type": "code",
   "execution_count": null,
   "metadata": {},
   "outputs": [],
   "source": [
    "df_small = df[['log_mxBlue2Gr', 'MaxBlueBandIdx', 'log_chlor_a']].dropna()"
   ]
  },
  {
   "cell_type": "code",
   "execution_count": null,
   "metadata": {},
   "outputs": [],
   "source": [
    "X_ = df_small.log_mxBlue2Gr.values\n",
    "y = df_small.log_chlor_a.values\n",
    "X_s = (X_ - X_.mean()) / X_.std()\n",
    "y_s = (y - y.mean()) / y.std()\n",
    "X_poly = np.c_[X_s, np.power(X_s, 2), np.power(X_s, 3), np.power(X_s, 4)]"
   ]
  },
  {
   "cell_type": "code",
   "execution_count": null,
   "metadata": {},
   "outputs": [],
   "source": [
    "with pm.Model() as mbr_linear_pooled:\n",
    "    α = pm.Normal('α', mu=0, sd=1)\n",
    "    β = pm.Normal('β', mu=0, sd=1)\n",
    "    σ = pm.Exponential('σ', 1)\n",
    "    μ = α + β * X_s\n",
    "    likelihood = pm.Normal('likelihood', mu=μ, sd=σ, observed=y_s)"
   ]
  },
  {
   "cell_type": "code",
   "execution_count": null,
   "metadata": {},
   "outputs": [],
   "source": [
    "mlp_graph = pm.model_to_graphviz(mbr_linear_pooled)"
   ]
  },
  {
   "cell_type": "markdown",
   "metadata": {},
   "source": [
    "B. Hierarchical, Partially Pooled Model"
   ]
  },
  {
   "cell_type": "code",
   "execution_count": null,
   "metadata": {},
   "outputs": [],
   "source": [
    "with pm.Model() as mbr_linear"
   ]
  },
  {
   "cell_type": "markdown",
   "metadata": {},
   "source": [
    "---\n",
    "End of this Notebook"
   ]
  }
 ],
 "metadata": {
  "kernelspec": {
   "display_name": "Python [conda env:probaprog] *",
   "language": "python",
   "name": "conda-env-probaprog-py"
  },
  "language_info": {
   "codemirror_mode": {
    "name": "ipython",
    "version": 3
   },
   "file_extension": ".py",
   "mimetype": "text/x-python",
   "name": "python",
   "nbconvert_exporter": "python",
   "pygments_lexer": "ipython3",
   "version": "3.7.3"
  }
 },
 "nbformat": 4,
 "nbformat_minor": 2
}
