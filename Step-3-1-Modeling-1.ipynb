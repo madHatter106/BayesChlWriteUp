{
 "cells": [
  {
   "cell_type": "code",
   "execution_count": 1,
   "metadata": {},
   "outputs": [],
   "source": [
    "import pathlib\n",
    "import platform\n",
    "\n",
    "import numpy as np\n",
    "import pandas as pd\n",
    "\n",
    "from sklearn.preprocessing import StandardScaler\n",
    "from sklearn.model_selection import train_test_split\n",
    "\n",
    "import pymc3 as pm\n",
    "\n",
    "import arviz as ar\n",
    "import matplotlib.pyplot as pl\n",
    "from matplotlib import rcParams\n",
    "import seaborn as sb"
   ]
  },
  {
   "cell_type": "markdown",
   "metadata": {},
   "source": [
    "### <u>Package Versions<u>"
   ]
  },
  {
   "cell_type": "code",
   "execution_count": 2,
   "metadata": {},
   "outputs": [
    {
     "name": "stdout",
     "output_type": "stream",
     "text": [
      "Python & Package Versions\n",
      "----------------\n",
      "PYTHON: 3.7.3\n",
      "numpy: 1.17.2\n",
      "pandas: 0.25.1\n",
      "pymc3: 3.7\n",
      "arviz: 0.5.1\n",
      "seaborn: 0.9.0\n"
     ]
    }
   ],
   "source": [
    "def pkg_ver(pkgs):\n",
    "    print('Python & Package Versions')\n",
    "    print('----------------')\n",
    "    print(f'PYTHON: {platform.python_version()}')\n",
    "    for pki in pkgs:\n",
    "        print(f'{pki.__name__}: {pki.__version__}')\n",
    "pkg_ver([np, pd, pm, ar, sb])"
   ]
  },
  {
   "cell_type": "code",
   "execution_count": 3,
   "metadata": {},
   "outputs": [],
   "source": [
    "ar.style.use('arviz-darkgrid')"
   ]
  },
  {
   "cell_type": "markdown",
   "metadata": {},
   "source": [
    "### <u>Overview</u>\n",
    "\n",
    "In this and [a subsequent notebook](), I implement bayesian regression models to predict chlorophyll from satellite and ancillary data. I use a Bayesian framework for all models. For each model, implementation follows the sequence below.\n",
    "\n",
    "* The model is cast in a Bayesian framework using a probabilistic programming language (PPL);\n",
    "* A set of prior predictive simulations is conducted to ascertain that model priors are reasonable;\n",
    "* The model is fit using the No U-Turn Sampler (NUTS) variant of Hamiltonian Monte Carlo, and the data subset from NOMAD 2008;\n",
    "* Model predictive skill and  uncertainty are quantified via posterior distribution evaluation and posterior predictive simulation.\n",
    "\n",
    "In a [third notebook](), the skill of the models are compared using Information Criteria (IC) based methods. These include Watanabe Akaike Information Criterion (WAIC) and/or Pareto Smoothed Importance Sampling Leave-One-Out Cross Validation (LOO).\n",
    "\n",
    "### <u>The Present Notebook's Linear Models</u>\n",
    "I include 1. models here:\n",
    "1. A simple maximum-blue band ratio (*MBR*) regression model.\n",
    "2. An OC4-type \\\\(4^{th}\\\\)degree polynomial regression.\n",
    "3. An OCI-type mixture model where one of either OC4-type or Color Index Model is applied to the data.\n",
    "$$$$\n",
    "\n",
    "### <u>Loading the Data</u>\n",
    "The data was stored previously in a [pandas dataframe](https://pandas.pydata.org). "
   ]
  },
  {
   "cell_type": "code",
   "execution_count": 5,
   "metadata": {},
   "outputs": [],
   "source": [
    "df = pd.read_pickle('./PickleJar/df_main_2_w_CI.pkl')"
   ]
  },
  {
   "cell_type": "code",
   "execution_count": 7,
   "metadata": {},
   "outputs": [
    {
     "name": "stdout",
     "output_type": "stream",
     "text": [
      "<class 'pandas.core.frame.DataFrame'>\n",
      "RangeIndex: 4459 entries, 0 to 4458\n",
      "Data columns (total 26 columns):\n",
      "id                4459 non-null int64\n",
      "etopo2            4459 non-null float64\n",
      "log_etopo2        4459 non-null float64\n",
      "lat               4459 non-null float64\n",
      "rrs411            4293 non-null float64\n",
      "log_rrs411        4293 non-null float64\n",
      "rrs443            4456 non-null float64\n",
      "log_rrs443        4456 non-null float64\n",
      "rrs489            4422 non-null float64\n",
      "log_rrs489        4422 non-null float64\n",
      "rrs510            3435 non-null float64\n",
      "log_rrs510        3435 non-null float64\n",
      "rrs555            3255 non-null float64\n",
      "log_rrs555        3255 non-null float64\n",
      "rrs670            1598 non-null float64\n",
      "log_rrs670        1598 non-null float64\n",
      "CI                1163 non-null float64\n",
      "CI_OK             4459 non-null int64\n",
      "MaxBlue           4459 non-null float64\n",
      "MaxBlueBand       4459 non-null object\n",
      "MaxBlueBandIdx    4459 non-null int8\n",
      "mxBlue2Gr         3255 non-null float64\n",
      "log_mxBlue2Gr     3255 non-null float64\n",
      "chlor_a           4127 non-null float64\n",
      "log_chlor_a       4127 non-null float64\n",
      "is_hplc           4459 non-null bool\n",
      "dtypes: bool(1), float64(21), int64(2), int8(1), object(1)\n",
      "memory usage: 844.9+ KB\n"
     ]
    }
   ],
   "source": [
    "df.info()"
   ]
  },
  {
   "cell_type": "markdown",
   "metadata": {},
   "source": [
    "### <u>Simple Band Ratio</u>\n",
    "A. Pooled Model"
   ]
  },
  {
   "cell_type": "code",
   "execution_count": null,
   "metadata": {},
   "outputs": [],
   "source": []
  },
  {
   "cell_type": "markdown",
   "metadata": {},
   "source": [
    "B. Partially Pooled Model"
   ]
  },
  {
   "cell_type": "markdown",
   "metadata": {},
   "source": [
    "---\n",
    "End of this Notebook"
   ]
  }
 ],
 "metadata": {
  "kernelspec": {
   "display_name": "Python [conda env:probaprog] *",
   "language": "python",
   "name": "conda-env-probaprog-py"
  },
  "language_info": {
   "codemirror_mode": {
    "name": "ipython",
    "version": 3
   },
   "file_extension": ".py",
   "mimetype": "text/x-python",
   "name": "python",
   "nbconvert_exporter": "python",
   "pygments_lexer": "ipython3",
   "version": "3.7.3"
  }
 },
 "nbformat": 4,
 "nbformat_minor": 2
}
