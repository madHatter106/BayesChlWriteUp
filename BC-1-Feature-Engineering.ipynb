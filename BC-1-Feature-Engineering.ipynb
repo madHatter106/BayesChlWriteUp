{
 "cells": [
  {
   "cell_type": "markdown",
   "metadata": {},
   "source": [
    "## <u>Notebook Synopsis:</u> In the previous notebook, I created a number of data sets from the larger nomad data set pre-processed 2 notebooks prior. In this notebook I load the subset intended for this project"
   ]
  },
  {
   "cell_type": "code",
   "execution_count": 1,
   "metadata": {},
   "outputs": [],
   "source": [
    "import numpy as np\n",
    "import pandas as pd\n",
    "\n",
    "from sklearn.decomposition import PCA\n",
    "from sklearn.preprocessing import StandardScaler\n",
    "from sklearn.model_selection import train_test_split"
   ]
  },
  {
   "cell_type": "code",
   "execution_count": 29,
   "metadata": {},
   "outputs": [],
   "source": [
    "#import pymc3 as pm\n",
    "\n",
    "#import arviz as ar\n",
    "import matplotlib.pyplot as pl\n",
    "from matplotlib import rcParams\n",
    "#import seaborn as sb\n",
    "%matplotlib inline"
   ]
  },
  {
   "cell_type": "code",
   "execution_count": 30,
   "metadata": {},
   "outputs": [],
   "source": [
    "rcParams['axes.formatter.limits'] = (-2, 3)\n",
    "rcParams['axes.labelsize'] = 16\n",
    "rcParams['xtick.labelsize'] = 16\n",
    "rcParams['ytick.labelsize'] = 16"
   ]
  },
  {
   "cell_type": "markdown",
   "metadata": {},
   "source": [
    "## Methods\n",
    "\n",
    "The dataset used in this study was generated from the NOMAD dataset. 6 Rrs bands were used at 6 wavelength corresponding to SeaWiFS spectral coverage; 412, 443, 490, 510, 555, 670 nm. Of these, only 443 - 555 nm bands were retained. In this notebook, the following data transformation/feature engineering steps are implemented:\n",
    "\n",
    "* for band ratio algorithms, relevant ratios are pre-computed;\n",
    "* for band ratio algorithms with max(Blue) formulation, blue band used in the ratio is identified and flagged for grouping in partially pooled models\n",
    "* reflectances, reflectance ratios and chlorophyll are log-transformed;\n",
    "* for PCA-based algorithms, principal components were computed for all bands.\n",
    "* chlorophyll measurement method (hplc or not) zasu7ZL/.%T'            s identified and flagged\n",
    "* all predictors are standardized for more efficient "
   ]
  },
  {
   "cell_type": "code",
   "execution_count": 3,
   "metadata": {},
   "outputs": [],
   "source": [
    "df_ = pd.read_pickle('./pickleJar/df_nopurple_nored.pkl')"
   ]
  },
  {
   "cell_type": "markdown",
   "metadata": {},
   "source": [
    "### Compute band ratios, along with blue band used in the ratio, and an integer index to the same for use in partial pooling models:"
   ]
  },
  {
   "cell_type": "code",
   "execution_count": 4,
   "metadata": {},
   "outputs": [],
   "source": [
    "insert_loc = df_.columns.get_loc('chlor_a')\n",
    "blue_cols = ['rrs443', 'rrs489', 'rrs510']\n",
    "df_.insert(insert_loc, 'MaxBlue', df_[blue_cols].max(axis=1))\n",
    "insert_loc += 1\n",
    "df_.insert(insert_loc, 'MaxBlueBand', df_[blue_cols].idxmax(axis=1).str.capitalize())\n",
    "insert_loc += 1\n",
    "df_.insert(insert_loc,'MaxBlueBandIdx',\n",
    "           pd.Categorical(df_.MaxBlueBand, categories=blue_cols,).codes)\n",
    "insert_loc += 1\n",
    "df_.insert(insert_loc, 'mxBlue2Gr', df_.MaxBlue / df_.rrs555)"
   ]
  },
  {
   "cell_type": "code",
   "execution_count": 5,
   "metadata": {},
   "outputs": [
    {
     "data": {
      "text/html": [
       "<div>\n",
       "<style scoped>\n",
       "    .dataframe tbody tr th:only-of-type {\n",
       "        vertical-align: middle;\n",
       "    }\n",
       "\n",
       "    .dataframe tbody tr th {\n",
       "        vertical-align: top;\n",
       "    }\n",
       "\n",
       "    .dataframe thead th {\n",
       "        text-align: right;\n",
       "    }\n",
       "</style>\n",
       "<table border=\"1\" class=\"dataframe\">\n",
       "  <thead>\n",
       "    <tr style=\"text-align: right;\">\n",
       "      <th></th>\n",
       "      <th>id</th>\n",
       "      <th>rrs443</th>\n",
       "      <th>rrs489</th>\n",
       "      <th>rrs510</th>\n",
       "      <th>rrs555</th>\n",
       "      <th>MaxBlue</th>\n",
       "      <th>MaxBlueBand</th>\n",
       "      <th>MaxBlueBandIdx</th>\n",
       "      <th>mxBlue2Gr</th>\n",
       "      <th>chlor_a</th>\n",
       "      <th>is_hplc</th>\n",
       "    </tr>\n",
       "  </thead>\n",
       "  <tbody>\n",
       "    <tr>\n",
       "      <th>0</th>\n",
       "      <td>1565</td>\n",
       "      <td>0.001686</td>\n",
       "      <td>0.003293</td>\n",
       "      <td>0.004036</td>\n",
       "      <td>0.007479</td>\n",
       "      <td>0.004036</td>\n",
       "      <td>Rrs510</td>\n",
       "      <td>-1</td>\n",
       "      <td>0.539676</td>\n",
       "      <td>38.19</td>\n",
       "      <td>False</td>\n",
       "    </tr>\n",
       "    <tr>\n",
       "      <th>1</th>\n",
       "      <td>1566</td>\n",
       "      <td>0.001384</td>\n",
       "      <td>0.002173</td>\n",
       "      <td>0.002499</td>\n",
       "      <td>0.004152</td>\n",
       "      <td>0.002499</td>\n",
       "      <td>Rrs510</td>\n",
       "      <td>-1</td>\n",
       "      <td>0.601926</td>\n",
       "      <td>35.01</td>\n",
       "      <td>False</td>\n",
       "    </tr>\n",
       "    <tr>\n",
       "      <th>2</th>\n",
       "      <td>1567</td>\n",
       "      <td>0.001185</td>\n",
       "      <td>0.001843</td>\n",
       "      <td>0.002288</td>\n",
       "      <td>0.004246</td>\n",
       "      <td>0.002288</td>\n",
       "      <td>Rrs510</td>\n",
       "      <td>-1</td>\n",
       "      <td>0.538844</td>\n",
       "      <td>26.91</td>\n",
       "      <td>False</td>\n",
       "    </tr>\n",
       "    <tr>\n",
       "      <th>3</th>\n",
       "      <td>1568</td>\n",
       "      <td>0.001741</td>\n",
       "      <td>0.002877</td>\n",
       "      <td>0.003664</td>\n",
       "      <td>0.006982</td>\n",
       "      <td>0.003664</td>\n",
       "      <td>Rrs510</td>\n",
       "      <td>-1</td>\n",
       "      <td>0.524837</td>\n",
       "      <td>47.96</td>\n",
       "      <td>False</td>\n",
       "    </tr>\n",
       "    <tr>\n",
       "      <th>4</th>\n",
       "      <td>1559</td>\n",
       "      <td>0.001022</td>\n",
       "      <td>0.001506</td>\n",
       "      <td>0.001903</td>\n",
       "      <td>0.002801</td>\n",
       "      <td>0.001903</td>\n",
       "      <td>Rrs510</td>\n",
       "      <td>-1</td>\n",
       "      <td>0.679622</td>\n",
       "      <td>23.55</td>\n",
       "      <td>False</td>\n",
       "    </tr>\n",
       "  </tbody>\n",
       "</table>\n",
       "</div>"
      ],
      "text/plain": [
       "     id    rrs443    rrs489    rrs510    rrs555   MaxBlue MaxBlueBand  \\\n",
       "0  1565  0.001686  0.003293  0.004036  0.007479  0.004036      Rrs510   \n",
       "1  1566  0.001384  0.002173  0.002499  0.004152  0.002499      Rrs510   \n",
       "2  1567  0.001185  0.001843  0.002288  0.004246  0.002288      Rrs510   \n",
       "3  1568  0.001741  0.002877  0.003664  0.006982  0.003664      Rrs510   \n",
       "4  1559  0.001022  0.001506  0.001903  0.002801  0.001903      Rrs510   \n",
       "\n",
       "   MaxBlueBandIdx  mxBlue2Gr  chlor_a  is_hplc  \n",
       "0              -1   0.539676    38.19    False  \n",
       "1              -1   0.601926    35.01    False  \n",
       "2              -1   0.538844    26.91    False  \n",
       "3              -1   0.524837    47.96    False  \n",
       "4              -1   0.679622    23.55    False  "
      ]
     },
     "execution_count": 5,
     "metadata": {},
     "output_type": "execute_result"
    }
   ],
   "source": [
    "df_.head()"
   ]
  },
  {
   "cell_type": "code",
   "execution_count": 6,
   "metadata": {},
   "outputs": [],
   "source": [
    "df_.to_pickle('./pickleJar/df_nopurple_nored_with_MBR.pkl')"
   ]
  },
  {
   "cell_type": "markdown",
   "metadata": {},
   "source": [
    "### Log-transforming reflectances, ratios, and chlor_a"
   ]
  },
  {
   "cell_type": "code",
   "execution_count": 24,
   "metadata": {},
   "outputs": [],
   "source": [
    "columns_to_log_transform = df_.filter(regex='(rrs|chl|mxBlue2)',\n",
    "                                         axis=1).columns.tolist()\n",
    "\n",
    "# log_transforms\n",
    "df_log = pd.DataFrame(np.log10(df_.loc[:,\n",
    "                                            columns_to_log_transform\n",
    "                                           ].values),\n",
    "                      columns=[f'log_{col}' \n",
    "                               for col in columns_to_log_transform])"
   ]
  },
  {
   "cell_type": "markdown",
   "metadata": {},
   "source": [
    "Note on computing sd on log scale:\n",
    "\n",
    "\n",
    "If Var(exp(log_rrs))≈exp$(\\mu_{log\\_rrs})^2\\sigma^2_{log\\_rrs}$\n",
    "\n",
    "$sd(exp(log\\_rrs))≈exp(\\mu_{log\\_rrs})\\sigma_{log\\_rrs}$\n"
   ]
  },
  {
   "cell_type": "markdown",
   "metadata": {},
   "source": [
    "$\\leftrightarrow \\ \\sigma_{log\\_rrs} ≈ \\frac{sd(rrs)}{exp(\\mu_{log\\_rrs})}$"
   ]
  },
  {
   "cell_type": "code",
   "execution_count": 25,
   "metadata": {},
   "outputs": [
    {
     "data": {
      "text/html": [
       "<div>\n",
       "<style scoped>\n",
       "    .dataframe tbody tr th:only-of-type {\n",
       "        vertical-align: middle;\n",
       "    }\n",
       "\n",
       "    .dataframe tbody tr th {\n",
       "        vertical-align: top;\n",
       "    }\n",
       "\n",
       "    .dataframe thead th {\n",
       "        text-align: right;\n",
       "    }\n",
       "</style>\n",
       "<table border=\"1\" class=\"dataframe\">\n",
       "  <thead>\n",
       "    <tr style=\"text-align: right;\">\n",
       "      <th></th>\n",
       "      <th>log_rrs443</th>\n",
       "      <th>log_rrs489</th>\n",
       "      <th>log_rrs510</th>\n",
       "      <th>log_rrs555</th>\n",
       "      <th>log_mxBlue2Gr</th>\n",
       "      <th>log_chlor_a</th>\n",
       "    </tr>\n",
       "  </thead>\n",
       "  <tbody>\n",
       "    <tr>\n",
       "      <th>0</th>\n",
       "      <td>-2.773122</td>\n",
       "      <td>-2.482397</td>\n",
       "      <td>-2.394012</td>\n",
       "      <td>-2.126145</td>\n",
       "      <td>-0.267867</td>\n",
       "      <td>1.581950</td>\n",
       "    </tr>\n",
       "    <tr>\n",
       "      <th>1</th>\n",
       "      <td>-2.858857</td>\n",
       "      <td>-2.662956</td>\n",
       "      <td>-2.602191</td>\n",
       "      <td>-2.381734</td>\n",
       "      <td>-0.220457</td>\n",
       "      <td>1.544192</td>\n",
       "    </tr>\n",
       "    <tr>\n",
       "      <th>2</th>\n",
       "      <td>-2.926105</td>\n",
       "      <td>-2.734427</td>\n",
       "      <td>-2.640597</td>\n",
       "      <td>-2.372060</td>\n",
       "      <td>-0.268537</td>\n",
       "      <td>1.429914</td>\n",
       "    </tr>\n",
       "    <tr>\n",
       "      <th>3</th>\n",
       "      <td>-2.759143</td>\n",
       "      <td>-2.541014</td>\n",
       "      <td>-2.436014</td>\n",
       "      <td>-2.156039</td>\n",
       "      <td>-0.279976</td>\n",
       "      <td>1.680879</td>\n",
       "    </tr>\n",
       "    <tr>\n",
       "      <th>4</th>\n",
       "      <td>-2.990409</td>\n",
       "      <td>-2.822196</td>\n",
       "      <td>-2.720468</td>\n",
       "      <td>-2.552735</td>\n",
       "      <td>-0.167733</td>\n",
       "      <td>1.371991</td>\n",
       "    </tr>\n",
       "  </tbody>\n",
       "</table>\n",
       "</div>"
      ],
      "text/plain": [
       "   log_rrs443  log_rrs489  log_rrs510  log_rrs555  log_mxBlue2Gr  log_chlor_a\n",
       "0   -2.773122   -2.482397   -2.394012   -2.126145      -0.267867     1.581950\n",
       "1   -2.858857   -2.662956   -2.602191   -2.381734      -0.220457     1.544192\n",
       "2   -2.926105   -2.734427   -2.640597   -2.372060      -0.268537     1.429914\n",
       "3   -2.759143   -2.541014   -2.436014   -2.156039      -0.279976     1.680879\n",
       "4   -2.990409   -2.822196   -2.720468   -2.552735      -0.167733     1.371991"
      ]
     },
     "execution_count": 25,
     "metadata": {},
     "output_type": "execute_result"
    }
   ],
   "source": [
    "df_log.head()"
   ]
  },
  {
   "cell_type": "code",
   "execution_count": 26,
   "metadata": {},
   "outputs": [
    {
     "data": {
      "text/html": [
       "<div>\n",
       "<style scoped>\n",
       "    .dataframe tbody tr th:only-of-type {\n",
       "        vertical-align: middle;\n",
       "    }\n",
       "\n",
       "    .dataframe tbody tr th {\n",
       "        vertical-align: top;\n",
       "    }\n",
       "\n",
       "    .dataframe thead th {\n",
       "        text-align: right;\n",
       "    }\n",
       "</style>\n",
       "<table border=\"1\" class=\"dataframe\">\n",
       "  <thead>\n",
       "    <tr style=\"text-align: right;\">\n",
       "      <th></th>\n",
       "      <th>id</th>\n",
       "      <th>log_rrs443</th>\n",
       "      <th>log_rrs489</th>\n",
       "      <th>log_rrs510</th>\n",
       "      <th>log_rrs555</th>\n",
       "      <th>MaxBlueBand</th>\n",
       "      <th>log_mxBlue2Gr</th>\n",
       "      <th>log_chlor_a</th>\n",
       "      <th>is_hplc</th>\n",
       "    </tr>\n",
       "  </thead>\n",
       "  <tbody>\n",
       "    <tr>\n",
       "      <th>0</th>\n",
       "      <td>1565</td>\n",
       "      <td>-2.773122</td>\n",
       "      <td>-2.482397</td>\n",
       "      <td>-2.394012</td>\n",
       "      <td>-2.126145</td>\n",
       "      <td>Rrs510</td>\n",
       "      <td>-0.267867</td>\n",
       "      <td>1.581950</td>\n",
       "      <td>False</td>\n",
       "    </tr>\n",
       "    <tr>\n",
       "      <th>1</th>\n",
       "      <td>1566</td>\n",
       "      <td>-2.858857</td>\n",
       "      <td>-2.662956</td>\n",
       "      <td>-2.602191</td>\n",
       "      <td>-2.381734</td>\n",
       "      <td>Rrs510</td>\n",
       "      <td>-0.220457</td>\n",
       "      <td>1.544192</td>\n",
       "      <td>False</td>\n",
       "    </tr>\n",
       "    <tr>\n",
       "      <th>2</th>\n",
       "      <td>1567</td>\n",
       "      <td>-2.926105</td>\n",
       "      <td>-2.734427</td>\n",
       "      <td>-2.640597</td>\n",
       "      <td>-2.372060</td>\n",
       "      <td>Rrs510</td>\n",
       "      <td>-0.268537</td>\n",
       "      <td>1.429914</td>\n",
       "      <td>False</td>\n",
       "    </tr>\n",
       "    <tr>\n",
       "      <th>3</th>\n",
       "      <td>1568</td>\n",
       "      <td>-2.759143</td>\n",
       "      <td>-2.541014</td>\n",
       "      <td>-2.436014</td>\n",
       "      <td>-2.156039</td>\n",
       "      <td>Rrs510</td>\n",
       "      <td>-0.279976</td>\n",
       "      <td>1.680879</td>\n",
       "      <td>False</td>\n",
       "    </tr>\n",
       "    <tr>\n",
       "      <th>4</th>\n",
       "      <td>1559</td>\n",
       "      <td>-2.990409</td>\n",
       "      <td>-2.822196</td>\n",
       "      <td>-2.720468</td>\n",
       "      <td>-2.552735</td>\n",
       "      <td>Rrs510</td>\n",
       "      <td>-0.167733</td>\n",
       "      <td>1.371991</td>\n",
       "      <td>False</td>\n",
       "    </tr>\n",
       "  </tbody>\n",
       "</table>\n",
       "</div>"
      ],
      "text/plain": [
       "     id  log_rrs443  log_rrs489  log_rrs510  log_rrs555 MaxBlueBand  \\\n",
       "0  1565   -2.773122   -2.482397   -2.394012   -2.126145      Rrs510   \n",
       "1  1566   -2.858857   -2.662956   -2.602191   -2.381734      Rrs510   \n",
       "2  1567   -2.926105   -2.734427   -2.640597   -2.372060      Rrs510   \n",
       "3  1568   -2.759143   -2.541014   -2.436014   -2.156039      Rrs510   \n",
       "4  1559   -2.990409   -2.822196   -2.720468   -2.552735      Rrs510   \n",
       "\n",
       "   log_mxBlue2Gr  log_chlor_a  is_hplc  \n",
       "0      -0.267867     1.581950    False  \n",
       "1      -0.220457     1.544192    False  \n",
       "2      -0.268537     1.429914    False  \n",
       "3      -0.279976     1.680879    False  \n",
       "4      -0.167733     1.371991    False  "
      ]
     },
     "execution_count": 26,
     "metadata": {},
     "output_type": "execute_result"
    }
   ],
   "source": [
    "df_log.insert(0, 'id', df_.id)\n",
    "df_log.insert(df_log.columns.get_loc('log_mxBlue2Gr'), \n",
    "             'MaxBlueBand', df_.MaxBlueBand)\n",
    "df_log['is_hplc'] = df_.is_hplc\n",
    "\n",
    "df_log = df_log[['id', 'log_rrs443', 'log_rrs489', 'log_rrs510', 'log_rrs555',\n",
    "                 'MaxBlueBand', 'log_mxBlue2Gr', 'log_chlor_a', 'is_hplc']]\n",
    "\n",
    "df_log.head()"
   ]
  },
  {
   "cell_type": "code",
   "execution_count": 27,
   "metadata": {},
   "outputs": [
    {
     "data": {
      "text/html": [
       "<div>\n",
       "<style scoped>\n",
       "    .dataframe tbody tr th:only-of-type {\n",
       "        vertical-align: middle;\n",
       "    }\n",
       "\n",
       "    .dataframe tbody tr th {\n",
       "        vertical-align: top;\n",
       "    }\n",
       "\n",
       "    .dataframe thead th {\n",
       "        text-align: right;\n",
       "    }\n",
       "</style>\n",
       "<table border=\"1\" class=\"dataframe\">\n",
       "  <thead>\n",
       "    <tr style=\"text-align: right;\">\n",
       "      <th></th>\n",
       "      <th>id</th>\n",
       "      <th>log_rrs443</th>\n",
       "      <th>log_rrs489</th>\n",
       "      <th>log_rrs510</th>\n",
       "      <th>log_rrs555</th>\n",
       "      <th>log_mxBlue2Gr</th>\n",
       "      <th>log_chlor_a</th>\n",
       "    </tr>\n",
       "  </thead>\n",
       "  <tbody>\n",
       "    <tr>\n",
       "      <th>count</th>\n",
       "      <td>4459.000000</td>\n",
       "      <td>4456.000000</td>\n",
       "      <td>4422.000000</td>\n",
       "      <td>3435.000000</td>\n",
       "      <td>3255.000000</td>\n",
       "      <td>3255.000000</td>\n",
       "      <td>4127.000000</td>\n",
       "    </tr>\n",
       "    <tr>\n",
       "      <th>mean</th>\n",
       "      <td>4377.381251</td>\n",
       "      <td>-2.421040</td>\n",
       "      <td>-2.395443</td>\n",
       "      <td>-2.447466</td>\n",
       "      <td>-2.611693</td>\n",
       "      <td>0.278669</td>\n",
       "      <td>-0.112459</td>\n",
       "    </tr>\n",
       "    <tr>\n",
       "      <th>std</th>\n",
       "      <td>2298.272102</td>\n",
       "      <td>0.292499</td>\n",
       "      <td>0.224659</td>\n",
       "      <td>0.220647</td>\n",
       "      <td>0.292241</td>\n",
       "      <td>0.310451</td>\n",
       "      <td>0.687956</td>\n",
       "    </tr>\n",
       "    <tr>\n",
       "      <th>min</th>\n",
       "      <td>6.000000</td>\n",
       "      <td>-3.721171</td>\n",
       "      <td>-3.546531</td>\n",
       "      <td>-3.583095</td>\n",
       "      <td>-3.737064</td>\n",
       "      <td>-0.398402</td>\n",
       "      <td>-1.920819</td>\n",
       "    </tr>\n",
       "    <tr>\n",
       "      <th>25%</th>\n",
       "      <td>2028.500000</td>\n",
       "      <td>-2.582159</td>\n",
       "      <td>-2.515600</td>\n",
       "      <td>-2.548050</td>\n",
       "      <td>-2.799234</td>\n",
       "      <td>0.020759</td>\n",
       "      <td>-0.632039</td>\n",
       "    </tr>\n",
       "    <tr>\n",
       "      <th>50%</th>\n",
       "      <td>5039.000000</td>\n",
       "      <td>-2.409061</td>\n",
       "      <td>-2.381635</td>\n",
       "      <td>-2.465355</td>\n",
       "      <td>-2.683803</td>\n",
       "      <td>0.228030</td>\n",
       "      <td>-0.116907</td>\n",
       "    </tr>\n",
       "    <tr>\n",
       "      <th>75%</th>\n",
       "      <td>6271.500000</td>\n",
       "      <td>-2.216361</td>\n",
       "      <td>-2.247581</td>\n",
       "      <td>-2.372431</td>\n",
       "      <td>-2.502876</td>\n",
       "      <td>0.534595</td>\n",
       "      <td>0.332438</td>\n",
       "    </tr>\n",
       "    <tr>\n",
       "      <th>max</th>\n",
       "      <td>7831.000000</td>\n",
       "      <td>-1.434521</td>\n",
       "      <td>-1.195083</td>\n",
       "      <td>-1.109354</td>\n",
       "      <td>-1.331613</td>\n",
       "      <td>1.010287</td>\n",
       "      <td>1.891341</td>\n",
       "    </tr>\n",
       "  </tbody>\n",
       "</table>\n",
       "</div>"
      ],
      "text/plain": [
       "                id   log_rrs443   log_rrs489   log_rrs510   log_rrs555  \\\n",
       "count  4459.000000  4456.000000  4422.000000  3435.000000  3255.000000   \n",
       "mean   4377.381251    -2.421040    -2.395443    -2.447466    -2.611693   \n",
       "std    2298.272102     0.292499     0.224659     0.220647     0.292241   \n",
       "min       6.000000    -3.721171    -3.546531    -3.583095    -3.737064   \n",
       "25%    2028.500000    -2.582159    -2.515600    -2.548050    -2.799234   \n",
       "50%    5039.000000    -2.409061    -2.381635    -2.465355    -2.683803   \n",
       "75%    6271.500000    -2.216361    -2.247581    -2.372431    -2.502876   \n",
       "max    7831.000000    -1.434521    -1.195083    -1.109354    -1.331613   \n",
       "\n",
       "       log_mxBlue2Gr  log_chlor_a  \n",
       "count    3255.000000  4127.000000  \n",
       "mean        0.278669    -0.112459  \n",
       "std         0.310451     0.687956  \n",
       "min        -0.398402    -1.920819  \n",
       "25%         0.020759    -0.632039  \n",
       "50%         0.228030    -0.116907  \n",
       "75%         0.534595     0.332438  \n",
       "max         1.010287     1.891341  "
      ]
     },
     "execution_count": 27,
     "metadata": {},
     "output_type": "execute_result"
    }
   ],
   "source": [
    "df_log.describe()"
   ]
  },
  {
   "cell_type": "code",
   "execution_count": 28,
   "metadata": {},
   "outputs": [],
   "source": [
    "df_log.to_pickle('./pickleJar/df_log_nopurple_nored_with_MBR.pkl')"
   ]
  },
  {
   "cell_type": "markdown",
   "metadata": {},
   "source": [
    "### Computing Principal Components"
   ]
  },
  {
   "cell_type": "code",
   "execution_count": 31,
   "metadata": {},
   "outputs": [],
   "source": [
    "#Compute PC for all bands, for PCA-based regression algorithms\n",
    "pc_transformer = PCA()\n",
    "PCs = pc_transformer.fit_transform(df_log.filter(regex='rrs',\n",
    "                                                 axis=1).dropna()\n",
    "                                  )\n",
    "df_pc = pd.DataFrame(PCs, columns = [f'pc{i+1}' \n",
    "                                     for i in range(PCs.shape[1])])"
   ]
  },
  {
   "cell_type": "code",
   "execution_count": 34,
   "metadata": {},
   "outputs": [
    {
     "data": {
      "image/png": "[encoded data removed]",
      "text/plain": [
       "<Figure size 432x432 with 1 Axes>"
      ]
     },
     "metadata": {},
     "output_type": "display_data"
    }
   ],
   "source": [
    "# Plotting explained variance of principle components\n",
    "_, ax = pl.subplots(figsize=(6, 6))\n",
    "ax.bar([f'PC{i}' for i in range(1, 5)],\n",
    "       np.cumsum(pc_transformer.explained_variance_ratio_), alpha=0.7);\n",
    "ax.set_ylabel('Cumulative explained variance fraction')\n",
    "ax.set_xlabel('Principal Components');\n",
    "ax.set_ylim(0, 1)\n",
    "ax.axhline(0.95, color='k', ls='--');"
   ]
  },
  {
   "cell_type": "code",
   "execution_count": 35,
   "metadata": {},
   "outputs": [],
   "source": [
    "df_pc.to_pickle('./pickleJar/df_pca_from_log_nopurple_nored_with_MBR.pkl')"
   ]
  },
  {
   "cell_type": "markdown",
   "metadata": {},
   "source": [
    "Before a principled statistical comparison of the different chlorophyll algorithms becomes possible, the different algorithms must be re-implemented using a Bayesian framework. The implementation follows the sequence below:\n",
    "\n",
    "* Model coding using a probabilistic programming language (PPL)\n",
    "* Prior predictive simulation \n",
    "* Model fitting using Hamiltonian Monte Carlo and the Nomad dataset\n",
    "* Posterior predictive simulation to quantify predictive uncertainty\n",
    "* Comparison of Model skill  on out-of-sample data using Information Criteria (IC) including Watanabe Akaike Information Criterion (WAIC) and/or Pareto Smoothed Importance Sampling Leave One Out Cross Validation (LOO).\n",
    "\n",
    "\n",
    "1. Implementation of $OC_4$ \n",
    "\n",
    "\n",
    "    A. Without chlorophyll measurement error"
   ]
  },
  {
   "cell_type": "code",
   "execution_count": 24,
   "metadata": {},
   "outputs": [],
   "source": [
    "X = df_log.log_mxBlu2Gr.values\n",
    "y = df_log.log_chlor_a.values\n",
    "X_poly = np.c_[X, np.power(X, 2), np.power(X, 3), np.power(X, 4)]"
   ]
  },
  {
   "cell_type": "code",
   "execution_count": 25,
   "metadata": {},
   "outputs": [
    {
     "data": {
      "text/plain": [
       "(1016, 4)"
      ]
     },
     "execution_count": 25,
     "metadata": {},
     "output_type": "execute_result"
    }
   ],
   "source": [
    "X_poly.shape"
   ]
  },
  {
   "cell_type": "code",
   "execution_count": 32,
   "metadata": {},
   "outputs": [],
   "source": [
    "with pm.Model() as m_oc4:\n",
    "    α = pm.Normal('α', 0, 1)\n",
    "    β = pm.Normal('β', 0, 1, shape=X_poly.shape[1])\n",
    "    σ = pm.Exponential('σ', 1)\n",
    "    μ =  α + pm.math.dot(X_poly, β)\n",
    "    log_chl = pm.Normal('log_chl', mu=μ, sd=σ, observed=y)"
   ]
  },
  {
   "cell_type": "code",
   "execution_count": 33,
   "metadata": {},
   "outputs": [],
   "source": [
    "render = pm.model_to_graphviz(m_oc4)"
   ]
  },
  {
   "cell_type": "code",
   "execution_count": 34,
   "metadata": {},
   "outputs": [],
   "source": [
    "render.render('m_oc4', directory='./figJar', format='png');"
   ]
  },
  {
   "cell_type": "markdown",
   "metadata": {},
   "source": [
    "<img src='./figJar/m_oc4.png?:0' />"
   ]
  },
  {
   "cell_type": "code",
   "execution_count": 37,
   "metadata": {},
   "outputs": [],
   "source": [
    "m_oc4_priors = pm.sample_prior_predictive(model=m_oc4,\n",
    "                                         vars=['α', 'β', 'σ', 'log_chl'])"
   ]
  },
  {
   "cell_type": "code",
   "execution_count": 38,
   "metadata": {},
   "outputs": [],
   "source": [
    "α_prior = m_oc4_priors['α']\n",
    "β_prior = m_oc4_priors['β']\n",
    "σ_prior = m_oc4_priors['σ']\n",
    "log_chl_prior = m_oc4_priors['log_chl']"
   ]
  },
  {
   "cell_type": "code",
   "execution_count": 42,
   "metadata": {},
   "outputs": [
    {
     "data": {
      "text/plain": [
       "<matplotlib.axes._subplots.AxesSubplot at 0x1c2b162278>"
      ]
     },
     "execution_count": 42,
     "metadata": {},
     "output_type": "execute_result"
    },
    {
     "data": {
      "image/png": "[encoded data removed]",
      "text/plain": [
       "<Figure size 432x288 with 1 Axes>"
      ]
     },
     "metadata": {
      "needs_background": "light"
     },
     "output_type": "display_data"
    }
   ],
   "source": [
    "f, ax = pl.subplots(figsize=(6, 4))\n",
    "sb.distplot(log_chl_prior.flatten(),\n",
    "            hist_kws={'alpha': 0.5})\n",
    "sb.distplot(log_chl_prior.flatten(), )"
   ]
  },
  {
   "cell_type": "code",
   "execution_count": 45,
   "metadata": {},
   "outputs": [
    {
     "name": "stderr",
     "output_type": "stream",
     "text": [
      "Auto-assigning NUTS sampler...\n",
      "Initializing NUTS using jitter+adapt_diag...\n",
      "Multiprocess sampling (2 chains in 2 jobs)\n",
      "NUTS: [σ, β, α]\n",
      "Sampling 2 chains: 100%|██████████| 6000/6000 [00:19<00:00, 310.80draws/s]\n"
     ]
    }
   ],
   "source": [
    "with m_oc4:\n",
    "    trace_oc4 = pm.sample(2000, tune=1000)"
   ]
  },
  {
   "cell_type": "code",
   "execution_count": 49,
   "metadata": {},
   "outputs": [],
   "source": [
    "m_oc4_posteriors = {k: trace_oc4.get_values(k) for k in ['α', 'β', 'σ']}"
   ]
  },
  {
   "cell_type": "code",
   "execution_count": 47,
   "metadata": {},
   "outputs": [
    {
     "data": {
      "image/png": "[encoded data removed]",
      "text/plain": [
       "<Figure size 432x288 with 2 Axes>"
      ]
     },
     "metadata": {
      "needs_background": "light"
     },
     "output_type": "display_data"
    }
   ],
   "source": [
    "pm.forestplot(trace_oc4, varnames=['α', 'β']);"
   ]
  },
  {
   "cell_type": "markdown",
   "metadata": {},
   "source": [
    "    B. With chlorophyll measurement error"
   ]
  },
  {
   "cell_type": "code",
   "execution_count": null,
   "metadata": {},
   "outputs": [],
   "source": []
  },
  {
   "cell_type": "markdown",
   "metadata": {},
   "source": [
    "2. Implementation of $OC_x$ with $CI$ split\n",
    "\n",
    "\n",
    "    A. Without chlorophyll measurement error"
   ]
  },
  {
   "cell_type": "code",
   "execution_count": null,
   "metadata": {},
   "outputs": [],
   "source": [
    "with pm.Model() as m_oci:\n",
    "    \\alpha"
   ]
  },
  {
   "cell_type": "markdown",
   "metadata": {},
   "source": [
    "    B. With chlorophyll measurement error"
   ]
  },
  {
   "cell_type": "code",
   "execution_count": null,
   "metadata": {},
   "outputs": [],
   "source": []
  },
  {
   "cell_type": "markdown",
   "metadata": {},
   "source": [
    "3. Simple band ratio\n",
    "\n",
    "    A. Without chlorophyll measurement error"
   ]
  },
  {
   "cell_type": "code",
   "execution_count": null,
   "metadata": {},
   "outputs": [],
   "source": []
  },
  {
   "cell_type": "markdown",
   "metadata": {},
   "source": [
    "    B. With chlorophyll measurement error"
   ]
  },
  {
   "cell_type": "code",
   "execution_count": null,
   "metadata": {},
   "outputs": [],
   "source": []
  },
  {
   "cell_type": "markdown",
   "metadata": {},
   "source": [
    "4. Multivariate Linear Regression\n",
    "\n",
    "\n",
    "    A. Without chlorophyll measurement error"
   ]
  },
  {
   "cell_type": "code",
   "execution_count": null,
   "metadata": {},
   "outputs": [],
   "source": []
  },
  {
   "cell_type": "markdown",
   "metadata": {},
   "source": [
    "    B. With chlorophyll measurement error"
   ]
  },
  {
   "cell_type": "markdown",
   "metadata": {},
   "source": [
    "5. Multivariate Linear Regression with Prior Transformation of Principal Components of Reflectance\n",
    "\n",
    "    A. Without chlorophyll measurement error"
   ]
  },
  {
   "cell_type": "code",
   "execution_count": null,
   "metadata": {},
   "outputs": [],
   "source": []
  },
  {
   "cell_type": "markdown",
   "metadata": {},
   "source": [
    "    B. With chlorophyll measurement error"
   ]
  },
  {
   "cell_type": "code",
   "execution_count": null,
   "metadata": {},
   "outputs": [],
   "source": []
  }
 ],
 "metadata": {
  "kernelspec": {
   "display_name": "Python 3",
   "language": "python",
   "name": "python3"
  },
  "language_info": {
   "codemirror_mode": {
    "name": "ipython",
    "version": 3
   },
   "file_extension": ".py",
   "mimetype": "text/x-python",
   "name": "python",
   "nbconvert_exporter": "python",
   "pygments_lexer": "ipython3",
   "version": "3.6.8"
  }
 },
 "nbformat": 4,
 "nbformat_minor": 2
}
