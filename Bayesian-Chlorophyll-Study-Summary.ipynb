{
 "cells": [
  {
   "cell_type": "markdown",
   "metadata": {},
   "source": [
    "The main model used for chlorophyll prediction from satellite remote sensing of ocean color is a fourth order polynomial (hereafter \\\\(OC_4 \\\\)), where the predictor is a the ratio of the maximum of one of several blue bands) to a green band. The issue with such an approach is the implicit multicollinearity of the high order polynomial formulation, itself borne out of trying to adapt to the wiggles visible when plotting the training dataset. The result is high likelihood of overfitting. \n",
    "\n",
    "A proposed alternative was a merging of the above polynomial model with a simple color-index based model. This model (hereafter \\\\(OCI \\\\)_ features a switchpoint that was manually selected by visually inspecting the training data. In addition to the multicollinearity problem described above, the training data used to determine the switchpoint had only ~ 50 obserations, casting some doubt as to its generalizability.\n",
    "\n",
    "The present  study, spread across [several notebooks](https://github.com/madHatter106/BayesChlWriteUp), and summarized here aims at coming up with multiple alternative models, using a Bayesian framework for training these models. I use the resulting posterior distributions to predict out-of-sample performance using both posterior predictive checks (PPC) and Information Theory Criteria such as the Widely Applicable Information Criterion (WAIC) to score and rank these models.\n",
    "\n",
    "<!--TEASER-->\n",
    "\n",
    "The Bayesian models I code up here include:\n",
    "* a \\\\( 4^{th} \\\\) order polynomial ( \\\\( OC_4 \\\\) )\n",
    "* a modified version of \\\\( OCI \\\\)\n",
    "* a simpler linear regression model and "
   ]
  },
  {
   "cell_type": "code",
   "execution_count": null,
   "metadata": {},
   "outputs": [],
   "source": []
  }
 ],
 "metadata": {
  "kernelspec": {
   "display_name": "Python [conda env:bayesian_toa_project] *",
   "language": "python",
   "name": "conda-env-bayesian_toa_project-py"
  },
  "language_info": {
   "codemirror_mode": {
    "name": "ipython",
    "version": 3
   },
   "file_extension": ".py",
   "mimetype": "text/x-python",
   "name": "python",
   "nbconvert_exporter": "python",
   "pygments_lexer": "ipython3",
   "version": "3.7.3"
  }
 },
 "nbformat": 4,
 "nbformat_minor": 2
}
