{
 "cells": [
  {
   "cell_type": "code",
   "execution_count": 1,
   "metadata": {},
   "outputs": [],
   "source": [
    "import numpy as np\n",
    "import pandas as pd\n",
    "\n",
    "from sklearn.decomposition import PCA\n",
    "from sklearn.preprocessing import StandardScaler\n",
    "from sklearn.model_selection import train_test_split\n",
    "\n",
    "import pymc3 as pm\n",
    "\n",
    "import arviz as ar\n",
    "import matplotlib.pyplot as pl\n",
    "from matplotlib import rcParams\n",
    "import seaborn as sb\n",
    "%matplotlib inline"
   ]
  },
  {
   "cell_type": "code",
   "execution_count": 2,
   "metadata": {},
   "outputs": [],
   "source": [
    "rcParams['axes.formatter.limits'] = (-2, 3)\n",
    "rcParams['axes.labelsize'] = 16\n",
    "rcParams['xtick.labelsize'] = 16\n",
    "rcParams['ytick.labelsize'] = 16"
   ]
  },
  {
   "cell_type": "markdown",
   "metadata": {},
   "source": [
    "### Methods\n",
    "\n",
    "The dataset used in this study was generated from the NOMAD dataset. 6 Rrs bands were used at 6 wavelength corresponding to SeaWiFS spectral coverage; 412, 443, 490, 510, 555, 670 nm. The following data transformation steps were implemented:\n",
    "* invalid data points were flagged and dropped\n",
    "* for band ratio algorithms, relevant ratios were pre-computed\n",
    "* for band ratio algorithms with max(Blue) formulation blue band used in the ratio was identified and flagged\n",
    "* for PCA-based algorithms, principal components were computed for all bands.\n",
    "* chlorophyll measurement method was identified and flagged\n",
    "* all predictors were standardized"
   ]
  },
  {
   "cell_type": "markdown",
   "metadata": {},
   "source": [
    "Before a principled statistical comparison of the different chlorophyll algorithms becomes possible, the different algorithms must be re-implemented using a Bayesian framework. The implementation follows the sequence below:\n",
    "\n",
    "* Model coding using a probabilistic programming language (PPL)\n",
    "* Prior predictive simulation \n",
    "* Model fitting using Hamiltonian Monte Carlo and the Nomad dataset\n",
    "* Posterior predictive simulation to quantify predictive uncertainty\n",
    "* Comparison of Model skill  on out-of-sample data using Information Criteria (IC) including Watanabe Akaike Information Criterion (WAIC) and/or Pareto Smoothed Importance Sampling Leave One Out Cross Validation (LOO).\n",
    "\n",
    "\n",
    "1. Implementation of $OC_4$ \n",
    "\n",
    "\n",
    "    A. Without chlorophyll measurement error"
   ]
  },
  {
   "cell_type": "code",
   "execution_count": 24,
   "metadata": {},
   "outputs": [],
   "source": [
    "X = df_log.log_mxBlu2Gr.values\n",
    "y = df_log.log_chlor_a.values\n",
    "X_poly = np.c_[X, np.power(X, 2), np.power(X, 3), np.power(X, 4)]"
   ]
  },
  {
   "cell_type": "code",
   "execution_count": 25,
   "metadata": {},
   "outputs": [
    {
     "data": {
      "text/plain": [
       "(1016, 4)"
      ]
     },
     "execution_count": 25,
     "metadata": {},
     "output_type": "execute_result"
    }
   ],
   "source": [
    "X_poly.shape"
   ]
  },
  {
   "cell_type": "code",
   "execution_count": 32,
   "metadata": {},
   "outputs": [],
   "source": [
    "with pm.Model() as m_oc4:\n",
    "    α = pm.Normal('α', 0, 1)\n",
    "    β = pm.Normal('β', 0, 1, shape=X_poly.shape[1])\n",
    "    σ = pm.Exponential('σ', 1)\n",
    "    μ =  α + pm.math.dot(X_poly, β)\n",
    "    log_chl = pm.Normal('log_chl', mu=μ, sd=σ, observed=y)"
   ]
  },
  {
   "cell_type": "code",
   "execution_count": 33,
   "metadata": {},
   "outputs": [],
   "source": [
    "render = pm.model_to_graphviz(m_oc4)"
   ]
  },
  {
   "cell_type": "code",
   "execution_count": 34,
   "metadata": {},
   "outputs": [],
   "source": [
    "render.render('m_oc4', directory='./figJar', format='png');"
   ]
  },
  {
   "cell_type": "markdown",
   "metadata": {},
   "source": [
    "<img src='./figJar/m_oc4.png?:0' />"
   ]
  },
  {
   "cell_type": "code",
   "execution_count": 37,
   "metadata": {},
   "outputs": [],
   "source": [
    "m_oc4_priors = pm.sample_prior_predictive(model=m_oc4,\n",
    "                                         vars=['α', 'β', 'σ', 'log_chl'])"
   ]
  },
  {
   "cell_type": "code",
   "execution_count": 38,
   "metadata": {},
   "outputs": [],
   "source": [
    "α_prior = m_oc4_priors['α']\n",
    "β_prior = m_oc4_priors['β']\n",
    "σ_prior = m_oc4_priors['σ']\n",
    "log_chl_prior = m_oc4_priors['log_chl']"
   ]
  },
  {
   "cell_type": "code",
   "execution_count": 42,
   "metadata": {},
   "outputs": [
    {
     "data": {
      "text/plain": [
       "<matplotlib.axes._subplots.AxesSubplot at 0x1c2b162278>"
      ]
     },
     "execution_count": 42,
     "metadata": {},
     "output_type": "execute_result"
    },
    {
     "data": {
      "image/png": "[encoded data removed]",
      "text/plain": [
       "<Figure size 432x288 with 1 Axes>"
      ]
     },
     "metadata": {
      "needs_background": "light"
     },
     "output_type": "display_data"
    }
   ],
   "source": [
    "f, ax = pl.subplots(figsize=(6, 4))\n",
    "sb.distplot(log_chl_prior.flatten(),\n",
    "            hist_kws={'alpha': 0.5})\n",
    "sb.distplot(log_chl_prior.flatten(), )"
   ]
  },
  {
   "cell_type": "code",
   "execution_count": 45,
   "metadata": {},
   "outputs": [
    {
     "name": "stderr",
     "output_type": "stream",
     "text": [
      "Auto-assigning NUTS sampler...\n",
      "Initializing NUTS using jitter+adapt_diag...\n",
      "Multiprocess sampling (2 chains in 2 jobs)\n",
      "NUTS: [σ, β, α]\n",
      "Sampling 2 chains: 100%|██████████| 6000/6000 [00:19<00:00, 310.80draws/s]\n"
     ]
    }
   ],
   "source": [
    "with m_oc4:\n",
    "    trace_oc4 = pm.sample(2000, tune=1000)"
   ]
  },
  {
   "cell_type": "code",
   "execution_count": 49,
   "metadata": {},
   "outputs": [],
   "source": [
    "m_oc4_posteriors = {k: trace_oc4.get_values(k) for k in ['α', 'β', 'σ']}"
   ]
  },
  {
   "cell_type": "code",
   "execution_count": 47,
   "metadata": {},
   "outputs": [
    {
     "data": {
      "image/png": "[encoded data removed]",
      "text/plain": [
       "<Figure size 432x288 with 2 Axes>"
      ]
     },
     "metadata": {
      "needs_background": "light"
     },
     "output_type": "display_data"
    }
   ],
   "source": [
    "pm.forestplot(trace_oc4, varnames=['α', 'β']);"
   ]
  },
  {
   "cell_type": "markdown",
   "metadata": {},
   "source": [
    "    B. With chlorophyll measurement error"
   ]
  },
  {
   "cell_type": "code",
   "execution_count": null,
   "metadata": {},
   "outputs": [],
   "source": []
  },
  {
   "cell_type": "markdown",
   "metadata": {},
   "source": [
    "2. Implementation of $OC_x$ with $CI$ split\n",
    "\n",
    "\n",
    "    A. Without chlorophyll measurement error"
   ]
  },
  {
   "cell_type": "code",
   "execution_count": null,
   "metadata": {},
   "outputs": [],
   "source": [
    "with pm.Model() as m_oci:\n",
    "    \\alpha"
   ]
  },
  {
   "cell_type": "markdown",
   "metadata": {},
   "source": [
    "    B. With chlorophyll measurement error"
   ]
  },
  {
   "cell_type": "code",
   "execution_count": null,
   "metadata": {},
   "outputs": [],
   "source": []
  },
  {
   "cell_type": "markdown",
   "metadata": {},
   "source": [
    "3. Simple band ratio\n",
    "\n",
    "    A. Without chlorophyll measurement error"
   ]
  },
  {
   "cell_type": "code",
   "execution_count": null,
   "metadata": {},
   "outputs": [],
   "source": []
  },
  {
   "cell_type": "markdown",
   "metadata": {},
   "source": [
    "    B. With chlorophyll measurement error"
   ]
  },
  {
   "cell_type": "code",
   "execution_count": null,
   "metadata": {},
   "outputs": [],
   "source": []
  },
  {
   "cell_type": "markdown",
   "metadata": {},
   "source": [
    "4. Multivariate Linear Regression\n",
    "\n",
    "\n",
    "    A. Without chlorophyll measurement error"
   ]
  },
  {
   "cell_type": "code",
   "execution_count": null,
   "metadata": {},
   "outputs": [],
   "source": []
  },
  {
   "cell_type": "markdown",
   "metadata": {},
   "source": [
    "    B. With chlorophyll measurement error"
   ]
  },
  {
   "cell_type": "markdown",
   "metadata": {},
   "source": [
    "5. Multivariate Linear Regression with Prior Transformation of Principal Components of Reflectance\n",
    "\n",
    "    A. Without chlorophyll measurement error"
   ]
  },
  {
   "cell_type": "code",
   "execution_count": null,
   "metadata": {},
   "outputs": [],
   "source": []
  },
  {
   "cell_type": "markdown",
   "metadata": {},
   "source": [
    "    B. With chlorophyll measurement error"
   ]
  },
  {
   "cell_type": "code",
   "execution_count": null,
   "metadata": {},
   "outputs": [],
   "source": []
  }
 ],
 "metadata": {
  "kernelspec": {
   "display_name": "Python 3",
   "language": "python",
   "name": "python3"
  },
  "language_info": {
   "codemirror_mode": {
    "name": "ipython",
    "version": 3
   },
   "file_extension": ".py",
   "mimetype": "text/x-python",
   "name": "python",
   "nbconvert_exporter": "python",
   "pygments_lexer": "ipython3",
   "version": "3.6.8"
  }
 },
 "nbformat": 4,
 "nbformat_minor": 2
}
